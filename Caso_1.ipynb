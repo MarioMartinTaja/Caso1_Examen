{
 "cells": [
  {
   "cell_type": "markdown",
   "metadata": {
    "application/vnd.databricks.v1+cell": {
     "cellMetadata": {},
     "inputWidgets": {},
     "nuid": "c9bfa09e-f54f-4fa5-bb53-85792757b7f6",
     "showTitle": false,
     "tableResultSettingsMap": {},
     "title": ""
    }
   },
   "source": [
    "- Preparar el fichero `orders_data.parquet` de modo que pueda ser usado para construir un 'forecasting model'.  \n",
    "- Limpiar la dataset para que cumpla los requerimientos del equipo de Data y Machine Learning.  \n",
    "- Guardar el archivo actualizado (limpio) como `orders_data_clean.parquet`"
   ]
  },
  {
   "cell_type": "markdown",
   "metadata": {
    "application/vnd.databricks.v1+cell": {
     "cellMetadata": {},
     "inputWidgets": {},
     "nuid": "2991b69f-f0d9-4f7b-8891-71c486e6b7f4",
     "showTitle": false,
     "tableResultSettingsMap": {},
     "title": ""
    }
   },
   "source": [
    "  \n",
    "dbfs:/FileStore/shared_uploads/mario.martin@tajamar365.com/orders_data.parquet"
   ]
  },
  {
   "cell_type": "markdown",
   "metadata": {
    "application/vnd.databricks.v1+cell": {
     "cellMetadata": {},
     "inputWidgets": {},
     "nuid": "8e722f5a-d92b-4210-80ea-6fff061b7081",
     "showTitle": false,
     "tableResultSettingsMap": {},
     "title": ""
    }
   },
   "source": [
    "Como ingeniero de datos de una empresa de comercio electrónico llamada Voltmart, un equipo de aprendizaje automático le ha pedido que limpie los datos que contienen información sobre los pedidos realizados el año pasado. Tienen previsto utilizar estos datos depurados para crear un modelo de previsión de la demanda (Forecasting Model). Para ello, han compartido sus requisitos sobre el formato de tabla de salida deseado.\n",
    "\n",
    "Un analista ha compartido un archivo parquet llamado `orders_data.parquet` para que usted los limpie y los preprocese.\n",
    "\n",
    "A continuación puede ver el esquema del conjunto de datos junto con los requisitos de limpieza de los perezosos analistas de datos:"
   ]
  },
  {
   "cell_type": "markdown",
   "metadata": {
    "application/vnd.databricks.v1+cell": {
     "cellMetadata": {},
     "inputWidgets": {},
     "nuid": "4a793c3b-1d16-4ba8-98b6-1ccb3be7d1b6",
     "showTitle": false,
     "tableResultSettingsMap": {},
     "title": ""
    }
   },
   "source": [
    "## `orders_data.parquet`\n",
    "\n",
    "| column | data type | description | cleaning requirements | \n",
    "|--------|-----------|-------------|-----------------------|\n",
    "| `order_date` | `timestamp` | Date and time when the order was made | _Modify: Remove orders placed between 12am and 5am (inclusive); convert from timestamp to date_ |\n",
    "| `time_of_day` | `string` | Period of the day when the order was made | _New column containing (lower bound inclusive, upper bound exclusive): \"morning\" for orders placed 5-12am, \"afternoon\" for orders placed 12-6pm, and \"evening\" for 6-12pm_ |\n",
    "| `order_id` | `long` | Order ID | _N/A_ |\n",
    "| `product` | `string` | Name of a product ordered | _Remove rows containing \"TV\" as the company has stopped selling this product; ensure all values are lowercase_ |\n",
    "| `product_ean` | `double` | Product ID | _N/A_ |\n",
    "| `category` | `string` | Broader category of a product | _Ensure all values are lowercase_ |\n",
    "| `purchase_address` | `string` | Address line where the order was made (\"House Street, City, State Zipcode\") | _N/A_ |\n",
    "| `purchase_state` | `string` | US State of the purchase address | _New column containing: the State that the purchase was ordered from_ |\n",
    "| `quantity_ordered` | `long` | Number of product units ordered | _N/A_ |\n",
    "| `price_each` | `double` | Price of a product unit | _N/A_ |\n",
    "| `cost_price` | `double` | Cost of production per product unit | _N/A_ |\n",
    "| `turnover` | `double` | Total amount paid for a product (quantity x price) | _N/A_ |\n",
    "| `margin` | `double` | Profit made by selling a product (turnover - cost) | _N/A_ |\n",
    "\n",
    "<br>"
   ]
  },
  {
   "cell_type": "code",
   "execution_count": 0,
   "metadata": {
    "application/vnd.databricks.v1+cell": {
     "cellMetadata": {
      "byteLimit": 2048000,
      "rowLimit": 10000
     },
     "inputWidgets": {},
     "nuid": "32eb7dfb-bcca-467e-a058-ffc6a8c57cce",
     "showTitle": false,
     "tableResultSettingsMap": {},
     "title": ""
    }
   },
   "outputs": [],
   "source": [
    "from pyspark.sql import SparkSession\n",
    "from pyspark.sql.functions import (\n",
    "    col, when, lit, date_format, hour, lower, substring_index\n",
    ")\n",
    "from pyspark.sql.types import StringType"
   ]
  },
  {
   "cell_type": "code",
   "execution_count": 0,
   "metadata": {
    "application/vnd.databricks.v1+cell": {
     "cellMetadata": {
      "byteLimit": 2048000,
      "rowLimit": 10000
     },
     "inputWidgets": {},
     "nuid": "d3848b72-2ba5-4779-8813-1b6e7416a775",
     "showTitle": false,
     "tableResultSettingsMap": {},
     "title": ""
    }
   },
   "outputs": [
    {
     "output_type": "display_data",
     "data": {
      "text/html": [
       "<div>\n",
       "<style scoped>\n",
       "    .dataframe tbody tr th:only-of-type {\n",
       "        vertical-align: middle;\n",
       "    }\n",
       "\n",
       "    .dataframe tbody tr th {\n",
       "        vertical-align: top;\n",
       "    }\n",
       "\n",
       "    .dataframe thead th {\n",
       "        text-align: right;\n",
       "    }\n",
       "</style>\n",
       "<table border=\"1\" class=\"dataframe\">\n",
       "  <thead>\n",
       "    <tr style=\"text-align: right;\">\n",
       "      <th></th>\n",
       "      <th>order_date</th>\n",
       "      <th>order_id</th>\n",
       "      <th>product</th>\n",
       "      <th>product_id</th>\n",
       "      <th>category</th>\n",
       "      <th>purchase_address</th>\n",
       "      <th>quantity_ordered</th>\n",
       "      <th>price_each</th>\n",
       "      <th>cost_price</th>\n",
       "      <th>turnover</th>\n",
       "      <th>margin</th>\n",
       "    </tr>\n",
       "  </thead>\n",
       "  <tbody>\n",
       "    <tr>\n",
       "      <th>0</th>\n",
       "      <td>2023-01-22 21:25:00</td>\n",
       "      <td>141234</td>\n",
       "      <td>iPhone</td>\n",
       "      <td>5.638009e+12</td>\n",
       "      <td>Vêtements</td>\n",
       "      <td>944 Walnut St, Boston, MA 02215</td>\n",
       "      <td>1</td>\n",
       "      <td>700.00</td>\n",
       "      <td>231.0000</td>\n",
       "      <td>700.00</td>\n",
       "      <td>469.0000</td>\n",
       "    </tr>\n",
       "    <tr>\n",
       "      <th>1</th>\n",
       "      <td>2023-01-28 14:15:00</td>\n",
       "      <td>141235</td>\n",
       "      <td>Lightning Charging Cable</td>\n",
       "      <td>5.563320e+12</td>\n",
       "      <td>Alimentation</td>\n",
       "      <td>185 Maple St, Portland, OR 97035</td>\n",
       "      <td>1</td>\n",
       "      <td>14.95</td>\n",
       "      <td>7.4750</td>\n",
       "      <td>14.95</td>\n",
       "      <td>7.4750</td>\n",
       "    </tr>\n",
       "    <tr>\n",
       "      <th>2</th>\n",
       "      <td>2023-01-17 13:33:00</td>\n",
       "      <td>141236</td>\n",
       "      <td>Wired Headphones</td>\n",
       "      <td>2.113973e+12</td>\n",
       "      <td>Vêtements</td>\n",
       "      <td>538 Adams St, San Francisco, CA 94016</td>\n",
       "      <td>2</td>\n",
       "      <td>11.99</td>\n",
       "      <td>5.9950</td>\n",
       "      <td>23.98</td>\n",
       "      <td>11.9900</td>\n",
       "    </tr>\n",
       "    <tr>\n",
       "      <th>3</th>\n",
       "      <td>2023-01-05 20:33:00</td>\n",
       "      <td>141237</td>\n",
       "      <td>27in FHD Monitor</td>\n",
       "      <td>3.069157e+12</td>\n",
       "      <td>Sports</td>\n",
       "      <td>738 10th St, Los Angeles, CA 90001</td>\n",
       "      <td>1</td>\n",
       "      <td>149.99</td>\n",
       "      <td>97.4935</td>\n",
       "      <td>149.99</td>\n",
       "      <td>52.4965</td>\n",
       "    </tr>\n",
       "    <tr>\n",
       "      <th>4</th>\n",
       "      <td>2023-01-25 11:59:00</td>\n",
       "      <td>141238</td>\n",
       "      <td>Wired Headphones</td>\n",
       "      <td>9.692681e+12</td>\n",
       "      <td>Électronique</td>\n",
       "      <td>387 10th St, Austin, TX 73301</td>\n",
       "      <td>1</td>\n",
       "      <td>11.99</td>\n",
       "      <td>5.9950</td>\n",
       "      <td>11.99</td>\n",
       "      <td>5.9950</td>\n",
       "    </tr>\n",
       "  </tbody>\n",
       "</table>\n",
       "</div>"
      ]
     },
     "metadata": {
      "application/vnd.databricks.v1+output": {
       "addedWidgets": {},
       "arguments": {},
       "data": "<div>\n<style scoped>\n    .dataframe tbody tr th:only-of-type {\n        vertical-align: middle;\n    }\n\n    .dataframe tbody tr th {\n        vertical-align: top;\n    }\n\n    .dataframe thead th {\n        text-align: right;\n    }\n</style>\n<table border=\"1\" class=\"dataframe\">\n  <thead>\n    <tr style=\"text-align: right;\">\n      <th></th>\n      <th>order_date</th>\n      <th>order_id</th>\n      <th>product</th>\n      <th>product_id</th>\n      <th>category</th>\n      <th>purchase_address</th>\n      <th>quantity_ordered</th>\n      <th>price_each</th>\n      <th>cost_price</th>\n      <th>turnover</th>\n      <th>margin</th>\n    </tr>\n  </thead>\n  <tbody>\n    <tr>\n      <th>0</th>\n      <td>2023-01-22 21:25:00</td>\n      <td>141234</td>\n      <td>iPhone</td>\n      <td>5.638009e+12</td>\n      <td>Vêtements</td>\n      <td>944 Walnut St, Boston, MA 02215</td>\n      <td>1</td>\n      <td>700.00</td>\n      <td>231.0000</td>\n      <td>700.00</td>\n      <td>469.0000</td>\n    </tr>\n    <tr>\n      <th>1</th>\n      <td>2023-01-28 14:15:00</td>\n      <td>141235</td>\n      <td>Lightning Charging Cable</td>\n      <td>5.563320e+12</td>\n      <td>Alimentation</td>\n      <td>185 Maple St, Portland, OR 97035</td>\n      <td>1</td>\n      <td>14.95</td>\n      <td>7.4750</td>\n      <td>14.95</td>\n      <td>7.4750</td>\n    </tr>\n    <tr>\n      <th>2</th>\n      <td>2023-01-17 13:33:00</td>\n      <td>141236</td>\n      <td>Wired Headphones</td>\n      <td>2.113973e+12</td>\n      <td>Vêtements</td>\n      <td>538 Adams St, San Francisco, CA 94016</td>\n      <td>2</td>\n      <td>11.99</td>\n      <td>5.9950</td>\n      <td>23.98</td>\n      <td>11.9900</td>\n    </tr>\n    <tr>\n      <th>3</th>\n      <td>2023-01-05 20:33:00</td>\n      <td>141237</td>\n      <td>27in FHD Monitor</td>\n      <td>3.069157e+12</td>\n      <td>Sports</td>\n      <td>738 10th St, Los Angeles, CA 90001</td>\n      <td>1</td>\n      <td>149.99</td>\n      <td>97.4935</td>\n      <td>149.99</td>\n      <td>52.4965</td>\n    </tr>\n    <tr>\n      <th>4</th>\n      <td>2023-01-25 11:59:00</td>\n      <td>141238</td>\n      <td>Wired Headphones</td>\n      <td>9.692681e+12</td>\n      <td>Électronique</td>\n      <td>387 10th St, Austin, TX 73301</td>\n      <td>1</td>\n      <td>11.99</td>\n      <td>5.9950</td>\n      <td>11.99</td>\n      <td>5.9950</td>\n    </tr>\n  </tbody>\n</table>\n</div>",
       "datasetInfos": [],
       "metadata": {},
       "removedWidgets": [],
       "textData": null,
       "type": "htmlSandbox"
      }
     },
     "output_type": "display_data"
    }
   ],
   "source": [
    "# Cargar el archivo parquet\n",
    "file_path = \"dbfs:/FileStore/shared_uploads/mario.martin@tajamar365.com/orders_data.parquet\"\n",
    "df = spark.read.parquet(file_path)\n",
    "df.toPandas().head()"
   ]
  },
  {
   "cell_type": "markdown",
   "metadata": {
    "application/vnd.databricks.v1+cell": {
     "cellMetadata": {},
     "inputWidgets": {},
     "nuid": "83685abc-c333-4fb3-9417-e2cbfc7acba4",
     "showTitle": false,
     "tableResultSettingsMap": {},
     "title": ""
    }
   },
   "source": [
    "### Respuestas:"
   ]
  },
  {
   "cell_type": "markdown",
   "metadata": {
    "application/vnd.databricks.v1+cell": {
     "cellMetadata": {},
     "inputWidgets": {},
     "nuid": "eb9ca43b-a21a-47e2-a533-352c6c8cde6e",
     "showTitle": false,
     "tableResultSettingsMap": {},
     "title": ""
    }
   },
   "source": [
    "##### 1. Modify: Remove orders placed between 12am and 5am (inclusive); convert from timestamp to date "
   ]
  },
  {
   "cell_type": "code",
   "execution_count": 0,
   "metadata": {
    "application/vnd.databricks.v1+cell": {
     "cellMetadata": {
      "byteLimit": 2048000,
      "rowLimit": 10000
     },
     "inputWidgets": {},
     "nuid": "d84476a5-af08-4136-87f5-4ac798cb3ada",
     "showTitle": false,
     "tableResultSettingsMap": {},
     "title": ""
    }
   },
   "outputs": [
    {
     "output_type": "stream",
     "name": "stdout",
     "output_type": "stream",
     "text": [
      "+----------+\n|order_date|\n+----------+\n|2023-01-22|\n|2023-01-28|\n|2023-01-17|\n|2023-01-05|\n|2023-01-25|\n|2023-01-29|\n|2023-01-26|\n|2023-01-05|\n|2023-01-01|\n|2023-01-22|\n|2023-01-07|\n|2023-01-31|\n|2023-01-09|\n|2023-01-25|\n|2023-01-03|\n|2023-01-05|\n|2023-01-10|\n|2023-01-24|\n|2023-01-30|\n|2023-01-08|\n+----------+\nonly showing top 20 rows\n\n"
     ]
    }
   ],
   "source": [
    "df = df.withColumn(\"hour\", hour(col(\"order_date\"))) \\\n",
    "       .filter((col(\"hour\") >= 5)) \\\n",
    "       .drop(\"hour\")\n",
    "df = df.withColumn(\"order_date\", to_date(col(\"order_date\")))  # Convertir a formato de fecha\n",
    "df.select(\"order_date\").show(truncate=False)"
   ]
  },
  {
   "cell_type": "markdown",
   "metadata": {
    "application/vnd.databricks.v1+cell": {
     "cellMetadata": {},
     "inputWidgets": {},
     "nuid": "af688b39-614f-4620-bd5a-b7bae774bc79",
     "showTitle": false,
     "tableResultSettingsMap": {},
     "title": ""
    }
   },
   "source": [
    "##### 2. New column containing (lower bound inclusive, upper bound exclusive): \"morning\" for orders placed 5-12am, \"afternoon\" for orders placed 12-6pm, and \"evening\" for 6-12pm"
   ]
  },
  {
   "cell_type": "code",
   "execution_count": 0,
   "metadata": {
    "application/vnd.databricks.v1+cell": {
     "cellMetadata": {
      "byteLimit": 2048000,
      "rowLimit": 10000
     },
     "inputWidgets": {},
     "nuid": "375d45cc-5fa2-41ae-adc5-3d1237dc112f",
     "showTitle": false,
     "tableResultSettingsMap": {},
     "title": ""
    }
   },
   "outputs": [
    {
     "output_type": "stream",
     "name": "stdout",
     "output_type": "stream",
     "text": [
      "Datos después de agregar la columna 'time_of_day':\n+----------+-----------+\n|order_date|time_of_day|\n+----------+-----------+\n|2023-01-22|evening    |\n|2023-01-28|evening    |\n|2023-01-17|evening    |\n|2023-01-05|evening    |\n|2023-01-25|evening    |\n|2023-01-29|evening    |\n|2023-01-26|evening    |\n|2023-01-05|evening    |\n|2023-01-01|evening    |\n|2023-01-22|evening    |\n|2023-01-07|evening    |\n|2023-01-31|evening    |\n|2023-01-09|evening    |\n|2023-01-25|evening    |\n|2023-01-03|evening    |\n|2023-01-05|evening    |\n|2023-01-10|evening    |\n|2023-01-24|evening    |\n|2023-01-30|evening    |\n|2023-01-08|evening    |\n+----------+-----------+\nonly showing top 20 rows\n\nPedidos realizados en la mañana (5am-12pm):\n+----------+--------+-------+----------+--------+----------------+----------------+----------+----------+--------+------+-----------+\n|order_date|order_id|product|product_id|category|purchase_address|quantity_ordered|price_each|cost_price|turnover|margin|time_of_day|\n+----------+--------+-------+----------+--------+----------------+----------------+----------+----------+--------+------+-----------+\n+----------+--------+-------+----------+--------+----------------+----------------+----------+----------+--------+------+-----------+\n\n"
     ]
    }
   ],
   "source": [
    "df = df.withColumn(\n",
    "    \"time_of_day\",\n",
    "    when((hour(col(\"order_date\")) >= 5) & (hour(col(\"order_date\")) < 12), \"morning\")\n",
    "    .when((hour(col(\"order_date\")) >= 12) & (hour(col(\"order_date\")) < 18), \"afternoon\")\n",
    "    .otherwise(\"evening\")\n",
    ")\n",
    "\n",
    "print(\"Datos después de agregar la columna 'time_of_day':\")\n",
    "df.select(\"order_date\", \"time_of_day\").show(truncate=False)\n",
    "\n",
    "morning_orders = df.filter(col(\"time_of_day\") == \"morning\")\n",
    "print(\"Pedidos realizados en la mañana (5am-12pm):\")\n",
    "morning_orders.show(50, truncate=False)\n",
    "# Se observa como no existe ninguno en morning, ya que están eliminados previamente\n",
    "# Si volvemos a ejecutar la celda donde se carga el archivo entero, y luego ejecutamos el morning_orders.show, observaremos como si muestra pedidos por la mañana"
   ]
  },
  {
   "cell_type": "markdown",
   "metadata": {
    "application/vnd.databricks.v1+cell": {
     "cellMetadata": {},
     "inputWidgets": {},
     "nuid": "de882743-3a8e-48e5-81b6-b18b033da1a4",
     "showTitle": false,
     "tableResultSettingsMap": {},
     "title": ""
    }
   },
   "source": [
    "##### 3. Remove rows containing \"TV\" as the company has stopped selling this product; ensure all values are lowercase"
   ]
  },
  {
   "cell_type": "markdown",
   "metadata": {
    "application/vnd.databricks.v1+cell": {
     "cellMetadata": {},
     "inputWidgets": {},
     "nuid": "6e225c15-9943-44db-ae30-f0e2300bdbb5",
     "showTitle": false,
     "tableResultSettingsMap": {},
     "title": ""
    }
   },
   "source": [
    "###Datos de productos sin hacer ningun cambio"
   ]
  },
  {
   "cell_type": "code",
   "execution_count": 0,
   "metadata": {
    "application/vnd.databricks.v1+cell": {
     "cellMetadata": {
      "byteLimit": 2048000,
      "rowLimit": 10000
     },
     "inputWidgets": {},
     "nuid": "21e21ce5-d7c9-43ce-b40a-29ba2b00caa4",
     "showTitle": false,
     "tableResultSettingsMap": {},
     "title": ""
    }
   },
   "outputs": [
    {
     "output_type": "stream",
     "name": "stdout",
     "output_type": "stream",
     "text": [
      "+--------------------------+\n|product                   |\n+--------------------------+\n|Wired Headphones          |\n|Macbook Pro Laptop        |\n|Apple Airpods Headphones  |\n|iPhone                    |\n|Lightning Charging Cable  |\n|Bose SoundSport Headphones|\n|USB-C Charging Cable      |\n|AAA Batteries (4-pack)    |\n|20in Monitor              |\n|27in FHD Monitor          |\n|Vareebadd Phone           |\n|34in Ultrawide Monitor    |\n|LG Dryer                  |\n|AA Batteries (4-pack)     |\n|Google Phone              |\n|Flatscreen TV             |\n|LG Washing Machine        |\n|27in 4K Gaming Monitor    |\n|ThinkPad Laptop           |\n+--------------------------+\n\n"
     ]
    }
   ],
   "source": [
    "df.select(\"product\").distinct().show(truncate=False)"
   ]
  },
  {
   "cell_type": "markdown",
   "metadata": {
    "application/vnd.databricks.v1+cell": {
     "cellMetadata": {},
     "inputWidgets": {},
     "nuid": "7e024cc4-aae0-43bd-9984-23b1047f807a",
     "showTitle": false,
     "tableResultSettingsMap": {},
     "title": ""
    }
   },
   "source": [
    "##### Observamos que en los datos normales, existen productos que son TV, a continuación los eliminaremos:"
   ]
  },
  {
   "cell_type": "code",
   "execution_count": 0,
   "metadata": {
    "application/vnd.databricks.v1+cell": {
     "cellMetadata": {
      "byteLimit": 2048000,
      "rowLimit": 10000
     },
     "inputWidgets": {},
     "nuid": "645805b4-396f-4dd5-8238-3081929226fa",
     "showTitle": false,
     "tableResultSettingsMap": {},
     "title": ""
    }
   },
   "outputs": [
    {
     "output_type": "stream",
     "name": "stdout",
     "output_type": "stream",
     "text": [
      "Datos una vez eliminadas las TV y con todos los productos en LowerCase\n+--------------------------+\n|product                   |\n+--------------------------+\n|aa batteries (4-pack)     |\n|iphone                    |\n|google phone              |\n|usb-c charging cable      |\n|lightning charging cable  |\n|thinkpad laptop           |\n|apple airpods headphones  |\n|20in monitor              |\n|lg washing machine        |\n|aaa batteries (4-pack)    |\n|macbook pro laptop        |\n|lg dryer                  |\n|wired headphones          |\n|27in 4k gaming monitor    |\n|27in fhd monitor          |\n|bose soundsport headphones|\n|34in ultrawide monitor    |\n|vareebadd phone           |\n+--------------------------+\n\n"
     ]
    }
   ],
   "source": [
    "df = df.filter(~lower(col(\"product\")).contains(\"tv\"))  # Elimina las filas que contienen la palabra tv\n",
    "df = df.withColumn(\"product\", lower(col(\"product\")))  # Hace un lower a todas los registros en productos para que se conviertan a minúsculas.\n",
    "print(\"Datos una vez eliminadas las TV y con todos los productos en LowerCase\")\n",
    "df.select(\"product\").distinct().show(truncate=False)\n",
    "\n",
    "# Podemos observar que no existe ninguna TV en los productos"
   ]
  },
  {
   "cell_type": "markdown",
   "metadata": {
    "application/vnd.databricks.v1+cell": {
     "cellMetadata": {},
     "inputWidgets": {},
     "nuid": "00f3cc87-4b9d-4a81-b3d6-e2a0f0af1fe9",
     "showTitle": false,
     "tableResultSettingsMap": {},
     "title": ""
    }
   },
   "source": [
    "##### 4. Ensure all values are lowercase"
   ]
  },
  {
   "cell_type": "markdown",
   "metadata": {
    "application/vnd.databricks.v1+cell": {
     "cellMetadata": {},
     "inputWidgets": {},
     "nuid": "917be814-33a5-4b9d-b82a-3b9a7442c55e",
     "showTitle": false,
     "tableResultSettingsMap": {},
     "title": ""
    }
   },
   "source": [
    "### Datos sin hacer cambios"
   ]
  },
  {
   "cell_type": "code",
   "execution_count": 0,
   "metadata": {
    "application/vnd.databricks.v1+cell": {
     "cellMetadata": {
      "byteLimit": 2048000,
      "rowLimit": 10000
     },
     "inputWidgets": {},
     "nuid": "879e1056-7c46-41e8-9ccf-bfa1a8a56007",
     "showTitle": false,
     "tableResultSettingsMap": {},
     "title": ""
    }
   },
   "outputs": [
    {
     "output_type": "stream",
     "name": "stdout",
     "output_type": "stream",
     "text": [
      "+-------------------+--------+--------------------------+-----------------+------------+-----------------------------------------+----------------+----------+------------------+--------+--------+\n|order_date         |order_id|product                   |product_id       |category    |purchase_address                         |quantity_ordered|price_each|cost_price        |turnover|margin  |\n+-------------------+--------+--------------------------+-----------------+------------+-----------------------------------------+----------------+----------+------------------+--------+--------+\n|2023-01-22 21:25:00|141234  |iPhone                    |5.638008983335E12|Vêtements   |944 Walnut St, Boston, MA 02215          |1               |700.0     |231.0             |700.0   |469.0   |\n|2023-01-28 14:15:00|141235  |Lightning Charging Cable  |5.563319511488E12|Alimentation|185 Maple St, Portland, OR 97035         |1               |14.95     |7.475             |14.95   |7.475   |\n|2023-01-17 13:33:00|141236  |Wired Headphones          |2.11397339522E12 |Vêtements   |538 Adams St, San Francisco, CA 94016    |2               |11.99     |5.995             |23.98   |11.99   |\n|2023-01-05 20:33:00|141237  |27in FHD Monitor          |3.069156759167E12|Sports      |738 10th St, Los Angeles, CA 90001       |1               |149.99    |97.4935           |149.99  |52.4965 |\n|2023-01-25 11:59:00|141238  |Wired Headphones          |9.692680938163E12|Électronique|387 10th St, Austin, TX 73301            |1               |11.99     |5.995             |11.99   |5.995   |\n|2023-01-29 20:22:00|141239  |AAA Batteries (4-pack)    |2.953868554188E12|Alimentation|775 Willow St, San Francisco, CA 94016   |1               |2.99      |1.495             |2.99    |1.495   |\n|2023-01-26 12:16:00|141240  |27in 4K Gaming Monitor    |5.173670800988E12|Vêtements   |979 Park St, Los Angeles, CA 90001       |1               |389.99    |128.69670000000002|389.99  |261.2933|\n|2023-01-05 12:04:00|141241  |USB-C Charging Cable      |8.051736777568E12|Vêtements   |181 6th St, San Francisco, CA 94016      |1               |11.95     |5.975             |11.95   |5.975   |\n|2023-01-01 10:30:00|141242  |Bose SoundSport Headphones|1.508418177978E12|Électronique|867 Willow St, Los Angeles, CA 90001     |1               |99.99     |49.995            |99.99   |49.995  |\n|2023-01-22 21:20:00|141243  |Apple Airpods Headphones  |1.38634421159E12 |Électronique|657 Johnson St, San Francisco, CA 94016  |1               |150.0     |97.5              |150.0   |52.5    |\n|2023-01-07 11:29:00|141244  |Apple Airpods Headphones  |4.332898830865E12|Vêtements   |492 Walnut St, San Francisco, CA 94016   |1               |150.0     |97.5              |150.0   |52.5    |\n|2023-01-31 10:12:00|141245  |Macbook Pro Laptop        |1.169379570345E12|Vêtements   |322 6th St, San Francisco, CA 94016      |1               |1700.0    |561.0             |1700.0  |1139.0  |\n|2023-01-09 18:57:00|141246  |AAA Batteries (4-pack)    |4.436184749366E12|Vêtements   |618 7th St, Los Angeles, CA 90001        |3               |2.99      |1.495             |8.97    |4.485   |\n|2023-01-25 19:19:00|141247  |27in FHD Monitor          |7.313825995563E12|Vêtements   |512 Wilson St, San Francisco, CA 94016   |1               |149.99    |97.4935           |149.99  |52.4965 |\n|2023-01-03 21:54:00|141248  |Flatscreen TV             |4.06275646306E12 |Électronique|363 Spruce St, Austin, TX 73301          |1               |300.0     |99.0              |300.0   |201.0   |\n|2023-01-05 17:20:00|141249  |27in FHD Monitor          |9.643428300795E12|Alimentation|440 Cedar St, Portland, OR 97035         |1               |149.99    |97.4935           |149.99  |52.4965 |\n|2023-01-10 11:20:00|141250  |Vareebadd Phone           |6.721780072847E12|Alimentation|471 Center St, Los Angeles, CA 90001     |1               |400.0     |132.0             |400.0   |268.0   |\n|2023-01-24 08:13:00|141251  |Apple Airpods Headphones  |2.700099961823E12|Alimentation|414 Walnut St, Boston, MA 02215          |1               |150.0     |97.5              |150.0   |52.5    |\n|2023-01-30 09:28:00|141252  |USB-C Charging Cable      |3.692435232121E12|Sports      |220 9th St, Los Angeles, CA 90001        |1               |11.95     |5.975             |11.95   |5.975   |\n|2023-01-17 00:09:00|141253  |AA Batteries (4-pack)     |6.741495725758E12|Alimentation|385 11th St, Atlanta, GA 30301           |1               |3.84      |1.92              |3.84    |1.92    |\n|2023-01-08 11:51:00|141254  |AAA Batteries (4-pack)    |8.219536039183E12|Électronique|238 Sunset St, Seattle, WA 98101         |1               |2.99      |1.495             |2.99    |1.495   |\n|2023-01-09 20:55:00|141255  |USB-C Charging Cable      |7.739134543383E12|Alimentation|764 11th St, Los Angeles, CA 90001       |1               |11.95     |5.975             |11.95   |5.975   |\n|2023-01-29 10:40:00|141256  |Google Phone              |3.693462265309E12|Électronique|675 Washington St, Portland, OR 97035    |1               |600.0     |198.0             |600.0   |402.0   |\n|2023-01-12 18:51:00|141257  |Apple Airpods Headphones  |8.586659871618E12|Sports      |338 Highland St, San Francisco, CA 94016 |1               |150.0     |97.5              |150.0   |52.5    |\n|2023-01-19 21:47:00|141258  |AA Batteries (4-pack)     |5.050923931748E12|Sports      |820 1st St, San Francisco, CA 94016      |1               |3.84      |1.92              |3.84    |1.92    |\n|2023-01-20 17:26:00|141259  |AAA Batteries (4-pack)    |8.114620073761E12|Alimentation|920 Adams St, San Francisco, CA 94016    |2               |2.99      |1.495             |5.98    |2.99    |\n|2023-01-01 22:00:00|141260  |AAA Batteries (4-pack)    |9.690713913382E12|Alimentation|293 Hill St, San Francisco, CA 94016     |1               |2.99      |1.495             |2.99    |1.495   |\n|2023-01-09 18:14:00|141261  |USB-C Charging Cable      |3.832854370801E12|Sports      |840 Lincoln St, Atlanta, GA 30301        |1               |11.95     |5.975             |11.95   |5.975   |\n|2023-01-16 12:35:00|141262  |AAA Batteries (4-pack)    |2.888976535898E12|Sports      |291 Lincoln St, San Francisco, CA 94016  |1               |2.99      |1.495             |2.99    |1.495   |\n|2023-01-11 23:33:00|141263  |Bose SoundSport Headphones|3.424458315091E12|Vêtements   |640 Spruce St, Boston, MA 02215          |1               |99.99     |49.995            |99.99   |49.995  |\n|2023-01-03 09:46:00|141264  |Apple Airpods Headphones  |8.604681316768E12|Vêtements   |937 Highland St, New York City, NY 10001 |1               |150.0     |97.5              |150.0   |52.5    |\n|2023-01-01 16:52:00|141265  |Apple Airpods Headphones  |8.195982149575E12|Alimentation|853 Ridge St, Boston, MA 02215           |1               |150.0     |97.5              |150.0   |52.5    |\n|2023-01-02 22:21:00|141266  |27in 4K Gaming Monitor    |5.423123907353E12|Sports      |834 4th St, Dallas, TX 75001             |1               |389.99    |128.69670000000002|389.99  |261.2933|\n|2023-01-09 08:28:00|141267  |Apple Airpods Headphones  |4.263139574413E12|Sports      |649 Sunset St, Los Angeles, CA 90001     |1               |150.0     |97.5              |150.0   |52.5    |\n|2023-01-14 10:13:00|141268  |AA Batteries (4-pack)     |7.300874677978E12|Vêtements   |611 Elm St, New York City, NY 10001      |1               |3.84      |1.92              |3.84    |1.92    |\n|2023-01-03 20:05:00|141269  |27in 4K Gaming Monitor    |9.305101001075E12|Sports      |812 Jefferson St, Los Angeles, CA 90001  |1               |389.99    |128.69670000000002|389.99  |261.2933|\n|2023-01-27 23:10:00|141270  |Wired Headphones          |2.490250792761E12|Vêtements   |469 Hill St, San Francisco, CA 94016     |1               |11.99     |5.995             |11.99   |5.995   |\n|2023-01-30 10:51:00|141271  |USB-C Charging Cable      |9.012688756596E12|Électronique|90 13th St, Boston, MA 02215             |1               |11.95     |5.975             |11.95   |5.975   |\n|2023-01-12 13:09:00|141272  |AAA Batteries (4-pack)    |6.609361466507E12|Sports      |818 Lincoln St, New York City, NY 10001  |1               |2.99      |1.495             |2.99    |1.495   |\n|2023-01-29 12:04:00|141273  |Wired Headphones          |2.009029820937E12|Sports      |994 13th St, Boston, MA 02215            |2               |11.99     |5.995             |23.98   |11.99   |\n|2023-01-17 11:30:00|141274  |USB-C Charging Cable      |2.458564127476E12|Sports      |8 Jackson St, Los Angeles, CA 90001      |1               |11.95     |5.975             |11.95   |5.975   |\n|2023-01-07 16:06:00|141275  |USB-C Charging Cable      |6.813732433143E12|Sports      |610 Walnut St, Austin, TX 73301          |1               |11.95     |5.975             |11.95   |5.975   |\n|2023-01-07 16:06:00|141275  |Wired Headphones          |5.76205882103E12 |Vêtements   |610 Walnut St, Austin, TX 73301          |1               |11.99     |5.995             |11.99   |5.995   |\n|2023-01-21 22:23:00|141276  |Lightning Charging Cable  |4.437399640739E12|Sports      |63 Cherry St, Los Angeles, CA 90001      |1               |14.95     |7.475             |14.95   |7.475   |\n|2023-01-13 19:07:00|141277  |Bose SoundSport Headphones|7.022455706599E12|Électronique|370 Lakeview St, Austin, TX 73301        |1               |99.99     |49.995            |99.99   |49.995  |\n|2023-01-26 12:14:00|141278  |Lightning Charging Cable  |3.94557742521E12 |Alimentation|100 Cherry St, New York City, NY 10001   |1               |14.95     |7.475             |14.95   |7.475   |\n|2023-01-03 19:10:00|141279  |Lightning Charging Cable  |2.254370169596E12|Sports      |938 14th St, Boston, MA 02215            |1               |14.95     |7.475             |14.95   |7.475   |\n|2023-01-20 16:10:00|141280  |AAA Batteries (4-pack)    |6.96873257929E12 |Électronique|530 7th St, Los Angeles, CA 90001        |1               |2.99      |1.495             |2.99    |1.495   |\n|2023-01-05 16:51:00|141281  |Lightning Charging Cable  |8.251683479623E12|Alimentation|274 2nd St, Atlanta, GA 30301            |1               |14.95     |7.475             |14.95   |7.475   |\n|2023-01-11 18:10:00|141282  |Vareebadd Phone           |7.519985342994E12|Sports      |125 Center St, New York City, NY 10001   |1               |400.0     |132.0             |400.0   |268.0   |\n|2023-01-02 16:16:00|141283  |Flatscreen TV             |8.633300480139E12|Électronique|68 Hickory St, Seattle, WA 98101         |1               |300.0     |99.0              |300.0   |201.0   |\n|2023-01-29 18:30:00|141284  |Wired Headphones          |8.507379009167E12|Vêtements   |462 1st St, Los Angeles, CA 90001        |1               |11.99     |5.995             |11.99   |5.995   |\n|2023-01-14 14:13:00|141285  |AAA Batteries (4-pack)    |2.484326257641E12|Alimentation|447 Cedar St, Seattle, WA 98101          |3               |2.99      |1.495             |8.97    |4.485   |\n|2023-01-02 20:33:00|141286  |27in 4K Gaming Monitor    |3.429904483225E12|Vêtements   |505 Hickory St, Dallas, TX 75001         |1               |389.99    |128.69670000000002|389.99  |261.2933|\n|2023-01-31 08:38:00|141287  |Bose SoundSport Headphones|8.932499335234E12|Alimentation|386 Elm St, San Francisco, CA 94016      |1               |99.99     |49.995            |99.99   |49.995  |\n|2023-01-19 08:17:00|141288  |Macbook Pro Laptop        |3.957658946411E12|Sports      |789 Washington St, Los Angeles, CA 90001 |1               |1700.0    |561.0             |1700.0  |1139.0  |\n|2023-01-28 11:17:00|141289  |20in Monitor              |1.33477725673E12 |Alimentation|534 Elm St, Atlanta, GA 30301            |1               |109.99    |71.4935           |109.99  |38.4965 |\n|2023-01-02 08:25:00|141290  |Apple Airpods Headphones  |9.390176017956E12|Vêtements   |4 1st St, Los Angeles, CA 90001          |1               |150.0     |97.5              |150.0   |52.5    |\n|2023-01-02 08:25:00|141290  |AA Batteries (4-pack)     |5.53898821412E12 |Vêtements   |4 1st St, Los Angeles, CA 90001          |3               |3.84      |1.92              |11.52   |5.76    |\n|2023-01-26 18:11:00|141291  |AA Batteries (4-pack)     |9.989998049236E12|Sports      |632 13th St, Los Angeles, CA 90001       |1               |3.84      |1.92              |3.84    |1.92    |\n|2023-01-21 08:46:00|141292  |AAA Batteries (4-pack)    |4.810474239131E12|Vêtements   |847 Ridge St, Los Angeles, CA 90001      |1               |2.99      |1.495             |2.99    |1.495   |\n|2023-01-18 12:21:00|141293  |USB-C Charging Cable      |3.599006367992E12|Sports      |880 Washington St, Boston, MA 02215      |1               |11.95     |5.975             |11.95   |5.975   |\n|2023-01-25 08:12:00|141294  |Bose SoundSport Headphones|4.880895321034E12|Électronique|907 Highland St, San Francisco, CA 94016 |1               |99.99     |49.995            |99.99   |49.995  |\n|2023-01-06 20:06:00|141295  |AA Batteries (4-pack)     |1.276874624774E12|Vêtements   |898 Lakeview St, Austin, TX 73301        |1               |3.84      |1.92              |3.84    |1.92    |\n|2023-01-20 00:21:00|141296  |USB-C Charging Cable      |9.557772918548E12|Électronique|889 Cedar St, Atlanta, GA 30301          |1               |11.95     |5.975             |11.95   |5.975   |\n|2023-01-04 11:09:00|141297  |Lightning Charging Cable  |3.239456558825E12|Sports      |566 Highland St, San Francisco, CA 94016 |1               |14.95     |7.475             |14.95   |7.475   |\n|2023-01-21 13:24:00|141298  |Lightning Charging Cable  |3.941481759871E12|Vêtements   |81 10th St, Dallas, TX 75001             |1               |14.95     |7.475             |14.95   |7.475   |\n|2023-01-31 23:23:00|141299  |AAA Batteries (4-pack)    |3.021537163246E12|Alimentation|836 Hill St, Dallas, TX 75001            |1               |2.99      |1.495             |2.99    |1.495   |\n|2023-01-23 10:21:00|141300  |Apple Airpods Headphones  |8.895422924583E12|Vêtements   |121 Cherry St, Boston, MA 02215          |1               |150.0     |97.5              |150.0   |52.5    |\n|2023-01-27 11:58:00|141301  |Apple Airpods Headphones  |8.598109744E12   |Sports      |867 Hill St, New York City, NY 10001     |1               |150.0     |97.5              |150.0   |52.5    |\n|2023-01-18 20:12:00|141302  |AAA Batteries (4-pack)    |5.743606040967E12|Alimentation|90 14th St, Portland, OR 97035           |2               |2.99      |1.495             |5.98    |2.99    |\n|2023-01-19 09:23:00|141303  |AA Batteries (4-pack)     |3.988945383921E12|Sports      |313 14th St, Seattle, WA 98101           |1               |3.84      |1.92              |3.84    |1.92    |\n|2023-01-28 13:10:00|141304  |USB-C Charging Cable      |2.795221908451E12|Sports      |363 Willow St, Los Angeles, CA 90001     |1               |11.95     |5.975             |11.95   |5.975   |\n|2023-01-27 16:51:00|141305  |AAA Batteries (4-pack)    |9.992004933513E12|Vêtements   |756 Wilson St, Austin, TX 73301          |3               |2.99      |1.495             |8.97    |4.485   |\n|2023-01-19 10:25:00|141306  |Wired Headphones          |1.738575276006E12|Sports      |458 Forest St, San Francisco, CA 94016   |1               |11.99     |5.995             |11.99   |5.995   |\n|2023-01-11 11:18:00|141307  |AAA Batteries (4-pack)    |3.742602898811E12|Électronique|895 Johnson St, Boston, MA 02215         |1               |2.99      |1.495             |2.99    |1.495   |\n|2023-01-12 12:00:00|141308  |27in FHD Monitor          |2.444962153827E12|Vêtements   |926 Cedar St, Portland, OR 97035         |1               |149.99    |97.4935           |149.99  |52.4965 |\n|2023-01-20 07:02:00|141309  |AAA Batteries (4-pack)    |3.79054189226E12 |Électronique|423 Elm St, San Francisco, CA 94016      |2               |2.99      |1.495             |5.98    |2.99    |\n|2023-01-07 13:32:00|141310  |AAA Batteries (4-pack)    |3.674220232271E12|Alimentation|679 8th St, San Francisco, CA 94016      |1               |2.99      |1.495             |2.99    |1.495   |\n|2023-01-28 12:45:00|141311  |34in Ultrawide Monitor    |8.131150697525E12|Électronique|223 North St, Atlanta, GA 30301          |1               |379.99    |125.3967          |379.99  |254.5933|\n|2023-01-08 23:20:00|141312  |Apple Airpods Headphones  |7.813157077566E12|Vêtements   |741 11th St, San Francisco, CA 94016     |1               |150.0     |97.5              |150.0   |52.5    |\n|2023-01-09 15:03:00|141313  |Lightning Charging Cable  |8.870146702235E12|Vêtements   |38 Johnson St, Los Angeles, CA 90001     |1               |14.95     |7.475             |14.95   |7.475   |\n|2023-01-13 23:51:00|141314  |Macbook Pro Laptop        |2.892197004217E12|Sports      |700 Jefferson St, New York City, NY 10001|1               |1700.0    |561.0             |1700.0  |1139.0  |\n|2023-01-10 01:32:00|141315  |USB-C Charging Cable      |1.997185248353E12|Électronique|842 8th St, Seattle, WA 98101            |1               |11.95     |5.975             |11.95   |5.975   |\n|2023-01-01 07:26:00|141316  |AAA Batteries (4-pack)    |8.39597048708E12 |Alimentation|235 South St, Seattle, WA 98101          |3               |2.99      |1.495             |8.97    |4.485   |\n|2023-01-21 11:18:00|141317  |27in FHD Monitor          |9.571682095729E12|Vêtements   |875 Meadow St, New York City, NY 10001   |1               |149.99    |97.4935           |149.99  |52.4965 |\n|2023-01-09 15:21:00|141318  |Bose SoundSport Headphones|9.18706774962E12 |Alimentation|789 Lakeview St, Boston, MA 02215        |1               |99.99     |49.995            |99.99   |49.995  |\n|2023-01-01 10:43:00|141319  |Bose SoundSport Headphones|7.326188331914E12|Alimentation|548 Maple St, Boston, MA 02215           |1               |99.99     |49.995            |99.99   |49.995  |\n|2023-01-24 13:37:00|141320  |AA Batteries (4-pack)     |4.371695914307E12|Électronique|326 12th St, Los Angeles, CA 90001       |1               |3.84      |1.92              |3.84    |1.92    |\n|2023-01-10 09:07:00|141321  |Bose SoundSport Headphones|4.225062546369E12|Alimentation|207 8th St, Los Angeles, CA 90001        |1               |99.99     |49.995            |99.99   |49.995  |\n|2023-01-12 21:56:00|141322  |AAA Batteries (4-pack)    |6.636561921176E12|Sports      |816 Lake St, Boston, MA 02215            |2               |2.99      |1.495             |5.98    |2.99    |\n|2023-01-17 21:54:00|141323  |USB-C Charging Cable      |7.51325391774E12 |Électronique|240 River St, New York City, NY 10001    |1               |11.95     |5.975             |11.95   |5.975   |\n|2023-01-04 23:36:00|141324  |USB-C Charging Cable      |3.941057910337E12|Vêtements   |851 Maple St, San Francisco, CA 94016    |1               |11.95     |5.975             |11.95   |5.975   |\n|2023-01-23 15:17:00|141325  |Bose SoundSport Headphones|9.430106405626E12|Électronique|880 Lake St, Austin, TX 73301            |1               |99.99     |49.995            |99.99   |49.995  |\n|2023-01-05 13:49:00|141326  |Google Phone              |4.599223183416E12|Électronique|131 Center St, San Francisco, CA 94016   |1               |600.0     |198.0             |600.0   |402.0   |\n|2023-01-31 01:38:00|141327  |USB-C Charging Cable      |1.61782241306E12 |Sports      |238 Washington St, Los Angeles, CA 90001 |1               |11.95     |5.975             |11.95   |5.975   |\n|2023-01-06 23:18:00|141328  |ThinkPad Laptop           |3.335441961489E12|Alimentation|736 5th St, Seattle, WA 98101            |1               |999.99    |329.99670000000003|999.99  |669.9933|\n|2023-01-01 16:01:00|141329  |USB-C Charging Cable      |6.757344694676E12|Électronique|122 5th St, Portland, ME 04101           |1               |11.95     |5.975             |11.95   |5.975   |\n|2023-01-21 13:04:00|141330  |Wired Headphones          |5.149226101332E12|Alimentation|391 5th St, Portland, OR 97035           |1               |11.99     |5.995             |11.99   |5.995   |\n|2023-01-09 18:32:00|141331  |Flatscreen TV             |7.572900898157E12|Électronique|299 Park St, San Francisco, CA 94016     |1               |300.0     |99.0              |300.0   |201.0   |\n+-------------------+--------+--------------------------+-----------------+------------+-----------------------------------------+----------------+----------+------------------+--------+--------+\nonly showing top 100 rows\n\n"
     ]
    }
   ],
   "source": [
    "df.show(100, truncate=False)"
   ]
  },
  {
   "cell_type": "markdown",
   "metadata": {
    "application/vnd.databricks.v1+cell": {
     "cellMetadata": {},
     "inputWidgets": {},
     "nuid": "5290cdb3-c3dc-43cf-b8d5-0dbc21208d27",
     "showTitle": false,
     "tableResultSettingsMap": {},
     "title": ""
    }
   },
   "source": [
    "##### Podemos observar como bastantes nombres en las columnas contienen letras mayúsculas, a continuación vamos a convertir todo a minúscula."
   ]
  },
  {
   "cell_type": "code",
   "execution_count": 0,
   "metadata": {
    "application/vnd.databricks.v1+cell": {
     "cellMetadata": {
      "byteLimit": 2048000,
      "rowLimit": 10000
     },
     "inputWidgets": {},
     "nuid": "a1e49653-65e4-445e-995f-9c67489a2248",
     "showTitle": false,
     "tableResultSettingsMap": {},
     "title": ""
    }
   },
   "outputs": [
    {
     "output_type": "stream",
     "name": "stdout",
     "output_type": "stream",
     "text": [
      "Datos después de convertir todos los datos del parquet a minúsculas:\n+----------+--------+--------------------------+-----------------+------------+-----------------------------------------+----------------+----------+------------------+--------+--------+-----------+\n|order_date|order_id|product                   |product_id       |category    |purchase_address                         |quantity_ordered|price_each|cost_price        |turnover|margin  |time_of_day|\n+----------+--------+--------------------------+-----------------+------------+-----------------------------------------+----------------+----------+------------------+--------+--------+-----------+\n|2023-01-22|141234  |iphone                    |5.638008983335e12|vêtements   |944 walnut st, boston, ma 02215          |1               |700.0     |231.0             |700.0   |469.0   |evening    |\n|2023-01-28|141235  |lightning charging cable  |5.563319511488e12|alimentation|185 maple st, portland, or 97035         |1               |14.95     |7.475             |14.95   |7.475   |evening    |\n|2023-01-17|141236  |wired headphones          |2.11397339522e12 |vêtements   |538 adams st, san francisco, ca 94016    |2               |11.99     |5.995             |23.98   |11.99   |evening    |\n|2023-01-05|141237  |27in fhd monitor          |3.069156759167e12|sports      |738 10th st, los angeles, ca 90001       |1               |149.99    |97.4935           |149.99  |52.4965 |evening    |\n|2023-01-25|141238  |wired headphones          |9.692680938163e12|électronique|387 10th st, austin, tx 73301            |1               |11.99     |5.995             |11.99   |5.995   |evening    |\n|2023-01-29|141239  |aaa batteries (4-pack)    |2.953868554188e12|alimentation|775 willow st, san francisco, ca 94016   |1               |2.99      |1.495             |2.99    |1.495   |evening    |\n|2023-01-26|141240  |27in 4k gaming monitor    |5.173670800988e12|vêtements   |979 park st, los angeles, ca 90001       |1               |389.99    |128.69670000000002|389.99  |261.2933|evening    |\n|2023-01-05|141241  |usb-c charging cable      |8.051736777568e12|vêtements   |181 6th st, san francisco, ca 94016      |1               |11.95     |5.975             |11.95   |5.975   |evening    |\n|2023-01-01|141242  |bose soundsport headphones|1.508418177978e12|électronique|867 willow st, los angeles, ca 90001     |1               |99.99     |49.995            |99.99   |49.995  |evening    |\n|2023-01-22|141243  |apple airpods headphones  |1.38634421159e12 |électronique|657 johnson st, san francisco, ca 94016  |1               |150.0     |97.5              |150.0   |52.5    |evening    |\n|2023-01-07|141244  |apple airpods headphones  |4.332898830865e12|vêtements   |492 walnut st, san francisco, ca 94016   |1               |150.0     |97.5              |150.0   |52.5    |evening    |\n|2023-01-31|141245  |macbook pro laptop        |1.169379570345e12|vêtements   |322 6th st, san francisco, ca 94016      |1               |1700.0    |561.0             |1700.0  |1139.0  |evening    |\n|2023-01-09|141246  |aaa batteries (4-pack)    |4.436184749366e12|vêtements   |618 7th st, los angeles, ca 90001        |3               |2.99      |1.495             |8.97    |4.485   |evening    |\n|2023-01-25|141247  |27in fhd monitor          |7.313825995563e12|vêtements   |512 wilson st, san francisco, ca 94016   |1               |149.99    |97.4935           |149.99  |52.4965 |evening    |\n|2023-01-05|141249  |27in fhd monitor          |9.643428300795e12|alimentation|440 cedar st, portland, or 97035         |1               |149.99    |97.4935           |149.99  |52.4965 |evening    |\n|2023-01-10|141250  |vareebadd phone           |6.721780072847e12|alimentation|471 center st, los angeles, ca 90001     |1               |400.0     |132.0             |400.0   |268.0   |evening    |\n|2023-01-24|141251  |apple airpods headphones  |2.700099961823e12|alimentation|414 walnut st, boston, ma 02215          |1               |150.0     |97.5              |150.0   |52.5    |evening    |\n|2023-01-30|141252  |usb-c charging cable      |3.692435232121e12|sports      |220 9th st, los angeles, ca 90001        |1               |11.95     |5.975             |11.95   |5.975   |evening    |\n|2023-01-08|141254  |aaa batteries (4-pack)    |8.219536039183e12|électronique|238 sunset st, seattle, wa 98101         |1               |2.99      |1.495             |2.99    |1.495   |evening    |\n|2023-01-09|141255  |usb-c charging cable      |7.739134543383e12|alimentation|764 11th st, los angeles, ca 90001       |1               |11.95     |5.975             |11.95   |5.975   |evening    |\n|2023-01-29|141256  |google phone              |3.693462265309e12|électronique|675 washington st, portland, or 97035    |1               |600.0     |198.0             |600.0   |402.0   |evening    |\n|2023-01-12|141257  |apple airpods headphones  |8.586659871618e12|sports      |338 highland st, san francisco, ca 94016 |1               |150.0     |97.5              |150.0   |52.5    |evening    |\n|2023-01-19|141258  |aa batteries (4-pack)     |5.050923931748e12|sports      |820 1st st, san francisco, ca 94016      |1               |3.84      |1.92              |3.84    |1.92    |evening    |\n|2023-01-20|141259  |aaa batteries (4-pack)    |8.114620073761e12|alimentation|920 adams st, san francisco, ca 94016    |2               |2.99      |1.495             |5.98    |2.99    |evening    |\n|2023-01-01|141260  |aaa batteries (4-pack)    |9.690713913382e12|alimentation|293 hill st, san francisco, ca 94016     |1               |2.99      |1.495             |2.99    |1.495   |evening    |\n|2023-01-09|141261  |usb-c charging cable      |3.832854370801e12|sports      |840 lincoln st, atlanta, ga 30301        |1               |11.95     |5.975             |11.95   |5.975   |evening    |\n|2023-01-16|141262  |aaa batteries (4-pack)    |2.888976535898e12|sports      |291 lincoln st, san francisco, ca 94016  |1               |2.99      |1.495             |2.99    |1.495   |evening    |\n|2023-01-11|141263  |bose soundsport headphones|3.424458315091e12|vêtements   |640 spruce st, boston, ma 02215          |1               |99.99     |49.995            |99.99   |49.995  |evening    |\n|2023-01-03|141264  |apple airpods headphones  |8.604681316768e12|vêtements   |937 highland st, new york city, ny 10001 |1               |150.0     |97.5              |150.0   |52.5    |evening    |\n|2023-01-01|141265  |apple airpods headphones  |8.195982149575e12|alimentation|853 ridge st, boston, ma 02215           |1               |150.0     |97.5              |150.0   |52.5    |evening    |\n|2023-01-02|141266  |27in 4k gaming monitor    |5.423123907353e12|sports      |834 4th st, dallas, tx 75001             |1               |389.99    |128.69670000000002|389.99  |261.2933|evening    |\n|2023-01-09|141267  |apple airpods headphones  |4.263139574413e12|sports      |649 sunset st, los angeles, ca 90001     |1               |150.0     |97.5              |150.0   |52.5    |evening    |\n|2023-01-14|141268  |aa batteries (4-pack)     |7.300874677978e12|vêtements   |611 elm st, new york city, ny 10001      |1               |3.84      |1.92              |3.84    |1.92    |evening    |\n|2023-01-03|141269  |27in 4k gaming monitor    |9.305101001075e12|sports      |812 jefferson st, los angeles, ca 90001  |1               |389.99    |128.69670000000002|389.99  |261.2933|evening    |\n|2023-01-27|141270  |wired headphones          |2.490250792761e12|vêtements   |469 hill st, san francisco, ca 94016     |1               |11.99     |5.995             |11.99   |5.995   |evening    |\n|2023-01-30|141271  |usb-c charging cable      |9.012688756596e12|électronique|90 13th st, boston, ma 02215             |1               |11.95     |5.975             |11.95   |5.975   |evening    |\n|2023-01-12|141272  |aaa batteries (4-pack)    |6.609361466507e12|sports      |818 lincoln st, new york city, ny 10001  |1               |2.99      |1.495             |2.99    |1.495   |evening    |\n|2023-01-29|141273  |wired headphones          |2.009029820937e12|sports      |994 13th st, boston, ma 02215            |2               |11.99     |5.995             |23.98   |11.99   |evening    |\n|2023-01-17|141274  |usb-c charging cable      |2.458564127476e12|sports      |8 jackson st, los angeles, ca 90001      |1               |11.95     |5.975             |11.95   |5.975   |evening    |\n|2023-01-07|141275  |usb-c charging cable      |6.813732433143e12|sports      |610 walnut st, austin, tx 73301          |1               |11.95     |5.975             |11.95   |5.975   |evening    |\n|2023-01-07|141275  |wired headphones          |5.76205882103e12 |vêtements   |610 walnut st, austin, tx 73301          |1               |11.99     |5.995             |11.99   |5.995   |evening    |\n|2023-01-21|141276  |lightning charging cable  |4.437399640739e12|sports      |63 cherry st, los angeles, ca 90001      |1               |14.95     |7.475             |14.95   |7.475   |evening    |\n|2023-01-13|141277  |bose soundsport headphones|7.022455706599e12|électronique|370 lakeview st, austin, tx 73301        |1               |99.99     |49.995            |99.99   |49.995  |evening    |\n|2023-01-26|141278  |lightning charging cable  |3.94557742521e12 |alimentation|100 cherry st, new york city, ny 10001   |1               |14.95     |7.475             |14.95   |7.475   |evening    |\n|2023-01-03|141279  |lightning charging cable  |2.254370169596e12|sports      |938 14th st, boston, ma 02215            |1               |14.95     |7.475             |14.95   |7.475   |evening    |\n|2023-01-20|141280  |aaa batteries (4-pack)    |6.96873257929e12 |électronique|530 7th st, los angeles, ca 90001        |1               |2.99      |1.495             |2.99    |1.495   |evening    |\n|2023-01-05|141281  |lightning charging cable  |8.251683479623e12|alimentation|274 2nd st, atlanta, ga 30301            |1               |14.95     |7.475             |14.95   |7.475   |evening    |\n|2023-01-11|141282  |vareebadd phone           |7.519985342994e12|sports      |125 center st, new york city, ny 10001   |1               |400.0     |132.0             |400.0   |268.0   |evening    |\n|2023-01-29|141284  |wired headphones          |8.507379009167e12|vêtements   |462 1st st, los angeles, ca 90001        |1               |11.99     |5.995             |11.99   |5.995   |evening    |\n|2023-01-14|141285  |aaa batteries (4-pack)    |2.484326257641e12|alimentation|447 cedar st, seattle, wa 98101          |3               |2.99      |1.495             |8.97    |4.485   |evening    |\n|2023-01-02|141286  |27in 4k gaming monitor    |3.429904483225e12|vêtements   |505 hickory st, dallas, tx 75001         |1               |389.99    |128.69670000000002|389.99  |261.2933|evening    |\n|2023-01-31|141287  |bose soundsport headphones|8.932499335234e12|alimentation|386 elm st, san francisco, ca 94016      |1               |99.99     |49.995            |99.99   |49.995  |evening    |\n|2023-01-19|141288  |macbook pro laptop        |3.957658946411e12|sports      |789 washington st, los angeles, ca 90001 |1               |1700.0    |561.0             |1700.0  |1139.0  |evening    |\n|2023-01-28|141289  |20in monitor              |1.33477725673e12 |alimentation|534 elm st, atlanta, ga 30301            |1               |109.99    |71.4935           |109.99  |38.4965 |evening    |\n|2023-01-02|141290  |apple airpods headphones  |9.390176017956e12|vêtements   |4 1st st, los angeles, ca 90001          |1               |150.0     |97.5              |150.0   |52.5    |evening    |\n|2023-01-02|141290  |aa batteries (4-pack)     |5.53898821412e12 |vêtements   |4 1st st, los angeles, ca 90001          |3               |3.84      |1.92              |11.52   |5.76    |evening    |\n|2023-01-26|141291  |aa batteries (4-pack)     |9.989998049236e12|sports      |632 13th st, los angeles, ca 90001       |1               |3.84      |1.92              |3.84    |1.92    |evening    |\n|2023-01-21|141292  |aaa batteries (4-pack)    |4.810474239131e12|vêtements   |847 ridge st, los angeles, ca 90001      |1               |2.99      |1.495             |2.99    |1.495   |evening    |\n|2023-01-18|141293  |usb-c charging cable      |3.599006367992e12|sports      |880 washington st, boston, ma 02215      |1               |11.95     |5.975             |11.95   |5.975   |evening    |\n|2023-01-25|141294  |bose soundsport headphones|4.880895321034e12|électronique|907 highland st, san francisco, ca 94016 |1               |99.99     |49.995            |99.99   |49.995  |evening    |\n|2023-01-06|141295  |aa batteries (4-pack)     |1.276874624774e12|vêtements   |898 lakeview st, austin, tx 73301        |1               |3.84      |1.92              |3.84    |1.92    |evening    |\n|2023-01-04|141297  |lightning charging cable  |3.239456558825e12|sports      |566 highland st, san francisco, ca 94016 |1               |14.95     |7.475             |14.95   |7.475   |evening    |\n|2023-01-21|141298  |lightning charging cable  |3.941481759871e12|vêtements   |81 10th st, dallas, tx 75001             |1               |14.95     |7.475             |14.95   |7.475   |evening    |\n|2023-01-31|141299  |aaa batteries (4-pack)    |3.021537163246e12|alimentation|836 hill st, dallas, tx 75001            |1               |2.99      |1.495             |2.99    |1.495   |evening    |\n|2023-01-23|141300  |apple airpods headphones  |8.895422924583e12|vêtements   |121 cherry st, boston, ma 02215          |1               |150.0     |97.5              |150.0   |52.5    |evening    |\n|2023-01-27|141301  |apple airpods headphones  |8.598109744e12   |sports      |867 hill st, new york city, ny 10001     |1               |150.0     |97.5              |150.0   |52.5    |evening    |\n|2023-01-18|141302  |aaa batteries (4-pack)    |5.743606040967e12|alimentation|90 14th st, portland, or 97035           |2               |2.99      |1.495             |5.98    |2.99    |evening    |\n|2023-01-19|141303  |aa batteries (4-pack)     |3.988945383921e12|sports      |313 14th st, seattle, wa 98101           |1               |3.84      |1.92              |3.84    |1.92    |evening    |\n|2023-01-28|141304  |usb-c charging cable      |2.795221908451e12|sports      |363 willow st, los angeles, ca 90001     |1               |11.95     |5.975             |11.95   |5.975   |evening    |\n|2023-01-27|141305  |aaa batteries (4-pack)    |9.992004933513e12|vêtements   |756 wilson st, austin, tx 73301          |3               |2.99      |1.495             |8.97    |4.485   |evening    |\n|2023-01-19|141306  |wired headphones          |1.738575276006e12|sports      |458 forest st, san francisco, ca 94016   |1               |11.99     |5.995             |11.99   |5.995   |evening    |\n|2023-01-11|141307  |aaa batteries (4-pack)    |3.742602898811e12|électronique|895 johnson st, boston, ma 02215         |1               |2.99      |1.495             |2.99    |1.495   |evening    |\n|2023-01-12|141308  |27in fhd monitor          |2.444962153827e12|vêtements   |926 cedar st, portland, or 97035         |1               |149.99    |97.4935           |149.99  |52.4965 |evening    |\n|2023-01-20|141309  |aaa batteries (4-pack)    |3.79054189226e12 |électronique|423 elm st, san francisco, ca 94016      |2               |2.99      |1.495             |5.98    |2.99    |evening    |\n|2023-01-07|141310  |aaa batteries (4-pack)    |3.674220232271e12|alimentation|679 8th st, san francisco, ca 94016      |1               |2.99      |1.495             |2.99    |1.495   |evening    |\n|2023-01-28|141311  |34in ultrawide monitor    |8.131150697525e12|électronique|223 north st, atlanta, ga 30301          |1               |379.99    |125.3967          |379.99  |254.5933|evening    |\n|2023-01-08|141312  |apple airpods headphones  |7.813157077566e12|vêtements   |741 11th st, san francisco, ca 94016     |1               |150.0     |97.5              |150.0   |52.5    |evening    |\n|2023-01-09|141313  |lightning charging cable  |8.870146702235e12|vêtements   |38 johnson st, los angeles, ca 90001     |1               |14.95     |7.475             |14.95   |7.475   |evening    |\n|2023-01-13|141314  |macbook pro laptop        |2.892197004217e12|sports      |700 jefferson st, new york city, ny 10001|1               |1700.0    |561.0             |1700.0  |1139.0  |evening    |\n|2023-01-01|141316  |aaa batteries (4-pack)    |8.39597048708e12 |alimentation|235 south st, seattle, wa 98101          |3               |2.99      |1.495             |8.97    |4.485   |evening    |\n|2023-01-21|141317  |27in fhd monitor          |9.571682095729e12|vêtements   |875 meadow st, new york city, ny 10001   |1               |149.99    |97.4935           |149.99  |52.4965 |evening    |\n|2023-01-09|141318  |bose soundsport headphones|9.18706774962e12 |alimentation|789 lakeview st, boston, ma 02215        |1               |99.99     |49.995            |99.99   |49.995  |evening    |\n|2023-01-01|141319  |bose soundsport headphones|7.326188331914e12|alimentation|548 maple st, boston, ma 02215           |1               |99.99     |49.995            |99.99   |49.995  |evening    |\n|2023-01-24|141320  |aa batteries (4-pack)     |4.371695914307e12|électronique|326 12th st, los angeles, ca 90001       |1               |3.84      |1.92              |3.84    |1.92    |evening    |\n|2023-01-10|141321  |bose soundsport headphones|4.225062546369e12|alimentation|207 8th st, los angeles, ca 90001        |1               |99.99     |49.995            |99.99   |49.995  |evening    |\n|2023-01-12|141322  |aaa batteries (4-pack)    |6.636561921176e12|sports      |816 lake st, boston, ma 02215            |2               |2.99      |1.495             |5.98    |2.99    |evening    |\n|2023-01-17|141323  |usb-c charging cable      |7.51325391774e12 |électronique|240 river st, new york city, ny 10001    |1               |11.95     |5.975             |11.95   |5.975   |evening    |\n|2023-01-04|141324  |usb-c charging cable      |3.941057910337e12|vêtements   |851 maple st, san francisco, ca 94016    |1               |11.95     |5.975             |11.95   |5.975   |evening    |\n|2023-01-23|141325  |bose soundsport headphones|9.430106405626e12|électronique|880 lake st, austin, tx 73301            |1               |99.99     |49.995            |99.99   |49.995  |evening    |\n|2023-01-05|141326  |google phone              |4.599223183416e12|électronique|131 center st, san francisco, ca 94016   |1               |600.0     |198.0             |600.0   |402.0   |evening    |\n|2023-01-06|141328  |thinkpad laptop           |3.335441961489e12|alimentation|736 5th st, seattle, wa 98101            |1               |999.99    |329.99670000000003|999.99  |669.9933|evening    |\n|2023-01-01|141329  |usb-c charging cable      |6.757344694676e12|électronique|122 5th st, portland, me 04101           |1               |11.95     |5.975             |11.95   |5.975   |evening    |\n|2023-01-21|141330  |wired headphones          |5.149226101332e12|alimentation|391 5th st, portland, or 97035           |1               |11.99     |5.995             |11.99   |5.995   |evening    |\n|2023-01-19|141332  |usb-c charging cable      |9.76529780276e12 |vêtements   |207 7th st, los angeles, ca 90001        |1               |11.95     |5.975             |11.95   |5.975   |evening    |\n|2023-01-01|141333  |27in fhd monitor          |5.735966889669e12|alimentation|554 10th st, los angeles, ca 90001       |1               |149.99    |97.4935           |149.99  |52.4965 |evening    |\n|2023-01-12|141335  |aaa batteries (4-pack)    |2.058342872013e12|alimentation|174 4th st, los angeles, ca 90001        |5               |2.99      |1.495             |14.95   |7.475   |evening    |\n|2023-01-09|141336  |iphone                    |2.453023947358e12|vêtements   |811 hickory st, portland, or 97035       |1               |700.0     |231.0             |700.0   |469.0   |evening    |\n|2023-01-09|141337  |bose soundsport headphones|5.500387518508e12|électronique|947 church st, san francisco, ca 94016   |1               |99.99     |49.995            |99.99   |49.995  |evening    |\n|2023-01-29|141338  |aaa batteries (4-pack)    |5.513922953821e12|alimentation|542 4th st, dallas, tx 75001             |1               |2.99      |1.495             |2.99    |1.495   |evening    |\n|2023-01-28|141339  |aaa batteries (4-pack)    |7.567049972309e12|sports      |539 lakeview st, dallas, tx 75001        |1               |2.99      |1.495             |2.99    |1.495   |evening    |\n+----------+--------+--------------------------+-----------------+------------+-----------------------------------------+----------------+----------+------------------+--------+--------+-----------+\nonly showing top 100 rows\n\n"
     ]
    }
   ],
   "source": [
    "df = df.select([lower(col(c)).alias(c) for c in df.columns]) # Mediante un bucle for recorro todas las columnas dándole un alias de \"c\", para aplicar el lower a todas ellas y así no tener que ir columna a columna\n",
    "print(\"Datos después de convertir todos los datos del parquet a minúsculas:\")\n",
    "df.show(100, truncate=False)"
   ]
  },
  {
   "cell_type": "markdown",
   "metadata": {
    "application/vnd.databricks.v1+cell": {
     "cellMetadata": {},
     "inputWidgets": {},
     "nuid": "5e15d85b-d5e3-474e-9d85-8a200d10b7ed",
     "showTitle": false,
     "tableResultSettingsMap": {},
     "title": ""
    }
   },
   "source": [
    "##### 5. New column containing: the State that the purchase was ordered from"
   ]
  },
  {
   "cell_type": "code",
   "execution_count": 0,
   "metadata": {
    "application/vnd.databricks.v1+cell": {
     "cellMetadata": {
      "byteLimit": 2048000,
      "rowLimit": 10000
     },
     "inputWidgets": {},
     "nuid": "aafd9c48-72af-434c-96a5-d26aaeb01473",
     "showTitle": false,
     "tableResultSettingsMap": {},
     "title": ""
    }
   },
   "outputs": [
    {
     "output_type": "stream",
     "name": "stdout",
     "output_type": "stream",
     "text": [
      "Datos después de agregar la columna 'purchase_state':\n+---------------------------------------+--------------+\n|purchase_address                       |purchase_state|\n+---------------------------------------+--------------+\n|944 walnut st, boston, ma 02215        |ma            |\n|185 maple st, portland, or 97035       |or            |\n|538 adams st, san francisco, ca 94016  |ca            |\n|738 10th st, los angeles, ca 90001     |ca            |\n|387 10th st, austin, tx 73301          |tx            |\n|775 willow st, san francisco, ca 94016 |ca            |\n|979 park st, los angeles, ca 90001     |ca            |\n|181 6th st, san francisco, ca 94016    |ca            |\n|867 willow st, los angeles, ca 90001   |ca            |\n|657 johnson st, san francisco, ca 94016|ca            |\n|492 walnut st, san francisco, ca 94016 |ca            |\n|322 6th st, san francisco, ca 94016    |ca            |\n|618 7th st, los angeles, ca 90001      |ca            |\n|512 wilson st, san francisco, ca 94016 |ca            |\n|440 cedar st, portland, or 97035       |or            |\n|471 center st, los angeles, ca 90001   |ca            |\n|414 walnut st, boston, ma 02215        |ma            |\n|220 9th st, los angeles, ca 90001      |ca            |\n|238 sunset st, seattle, wa 98101       |wa            |\n|764 11th st, los angeles, ca 90001     |ca            |\n+---------------------------------------+--------------+\nonly showing top 20 rows\n\n"
     ]
    }
   ],
   "source": [
    "# Primero definimos una nueva columna: purchase_state\n",
    "df = df.withColumn(\n",
    "    \"purchase_state\",\n",
    "    # Mediante un substring en la columna purchase_address que es donde se encuentyra la dirección y donde por tanto podremos sacar el estado, cogemos el último segmento despúes de la coma, que es donde se encuentra el estado en cada dirección\n",
    "    substring_index(col(\"purchase_address\"), \", \", -1)  \n",
    "    .substr(-8, 2) # Finalmente cogemos las dos últimas letras para establecer el estado\n",
    ")\n",
    "print(\"Datos después de agregar la columna 'purchase_state':\")\n",
    "df.select(\"purchase_address\", \"purchase_state\").show(truncate=False)"
   ]
  },
  {
   "cell_type": "markdown",
   "metadata": {
    "application/vnd.databricks.v1+cell": {
     "cellMetadata": {},
     "inputWidgets": {},
     "nuid": "2e5ba4d8-7ea3-4460-8f9d-218e7a907231",
     "showTitle": false,
     "tableResultSettingsMap": {},
     "title": ""
    }
   },
   "source": []
  },
  {
   "cell_type": "markdown",
   "metadata": {
    "application/vnd.databricks.v1+cell": {
     "cellMetadata": {},
     "inputWidgets": {},
     "nuid": "2e1bb2c3-6150-4ecc-b4cc-15047f9c680d",
     "showTitle": false,
     "tableResultSettingsMap": {},
     "title": ""
    }
   },
   "source": [
    "##### 6. Guardar archivo final limpio con nombre `orders_data_clean.parquet` "
   ]
  },
  {
   "cell_type": "code",
   "execution_count": 0,
   "metadata": {
    "application/vnd.databricks.v1+cell": {
     "cellMetadata": {
      "byteLimit": 2048000,
      "rowLimit": 10000
     },
     "inputWidgets": {},
     "nuid": "7910c303-61ff-458a-94b9-9e061d7ae35e",
     "showTitle": false,
     "tableResultSettingsMap": {},
     "title": ""
    }
   },
   "outputs": [
    {
     "output_type": "stream",
     "name": "stdout",
     "output_type": "stream",
     "text": [
      "Archivo limpio guardado como Parquet en: dbfs:/FileStore/shared_uploads/orders_data_clean.parquet\n"
     ]
    }
   ],
   "source": [
    "cleaned_file_path = \"dbfs:/FileStore/shared_uploads/orders_data_clean.parquet\"\n",
    "df.write.mode(\"overwrite\").parquet(cleaned_file_path)\n",
    "print(f\"Archivo limpio guardado como Parquet en: {cleaned_file_path}\")"
   ]
  },
  {
   "cell_type": "markdown",
   "metadata": {
    "application/vnd.databricks.v1+cell": {
     "cellMetadata": {},
     "inputWidgets": {},
     "nuid": "a5eacdae-eb35-432d-b0b2-700fe2fd44f7",
     "showTitle": false,
     "tableResultSettingsMap": {},
     "title": ""
    }
   },
   "source": [
    "##### 7. Exportar archivo limpio en formato CSV "
   ]
  },
  {
   "cell_type": "code",
   "execution_count": 0,
   "metadata": {
    "application/vnd.databricks.v1+cell": {
     "cellMetadata": {
      "byteLimit": 2048000,
      "rowLimit": 10000
     },
     "inputWidgets": {},
     "nuid": "f7b0e3ad-09b8-4426-89f7-17bc337b73aa",
     "showTitle": false,
     "tableResultSettingsMap": {},
     "title": ""
    }
   },
   "outputs": [
    {
     "output_type": "stream",
     "name": "stdout",
     "output_type": "stream",
     "text": [
      "Archivo limpio exportado como CSV en: dbfs:/FileStore/shared_uploads/orders_data_clean.csv\n"
     ]
    }
   ],
   "source": [
    "cleaned_csv_path = \"dbfs:/FileStore/shared_uploads/orders_data_clean.csv\"\n",
    "df.write.mode(\"overwrite\").option(\"header\", \"true\").csv(cleaned_csv_path)\n",
    "print(f\"Archivo limpio exportado como CSV en: {cleaned_csv_path}\")"
   ]
  }
 ],
 "metadata": {
  "application/vnd.databricks.v1+notebook": {
   "dashboards": [],
   "environmentMetadata": null,
   "language": "python",
   "notebookMetadata": {
    "pythonIndentUnit": 4
   },
   "notebookName": "Caso_1",
   "widgets": {}
  }
 },
 "nbformat": 4,
 "nbformat_minor": 0
}
